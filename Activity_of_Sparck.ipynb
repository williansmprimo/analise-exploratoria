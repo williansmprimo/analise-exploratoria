{
 "cells": [
  {
   "cell_type": "markdown",
   "id": "ccf6b4fe-cec7-4bfe-8b13-f7725eb580e7",
   "metadata": {},
   "source": [
    "# Nesta atividade são realizadas algumas interações em uma base de dados.\n",
    "1 - Carregamento dos dados de um arquivos CSV\n",
    "\n",
    "2 - Remoção de algumas colunas\n",
    "\n",
    "3 - Alguma operações de consulta"
   ]
  },
  {
   "cell_type": "code",
   "execution_count": 1,
   "id": "a73d350e-4708-4e05-91b3-9ec414ec0005",
   "metadata": {},
   "outputs": [
    {
     "name": "stderr",
     "output_type": "stream",
     "text": [
      "24/04/26 17:49:40 WARN Utils: Your hostname, willians-desktop resolves to a loopback address: 127.0.1.1; using 192.168.1.73 instead (on interface enp1s0)\n",
      "24/04/26 17:49:40 WARN Utils: Set SPARK_LOCAL_IP if you need to bind to another address\n",
      "Setting default log level to \"WARN\".\n",
      "To adjust logging level use sc.setLogLevel(newLevel). For SparkR, use setLogLevel(newLevel).\n",
      "24/04/26 17:49:41 WARN NativeCodeLoader: Unable to load native-hadoop library for your platform... using builtin-java classes where applicable\n",
      "24/04/26 17:49:44 WARN Utils: Service 'SparkUI' could not bind on port 4040. Attempting port 4041.\n"
     ]
    }
   ],
   "source": [
    "from pyspark.sql import SparkSession\n",
    "sparkCtx = SparkSession.builder.appName('Exercise').getOrCreate()"
   ]
  },
  {
   "cell_type": "code",
   "execution_count": 20,
   "id": "7f7d0747-f8cf-4e70-a996-ca11160c131a",
   "metadata": {},
   "outputs": [],
   "source": [
    "df = sparkCtx.read.csv('food-price-index-september-2023-weighted-average-prices.csv', inferSchema=True, header=True)"
   ]
  },
  {
   "cell_type": "code",
   "execution_count": 21,
   "id": "47189bb8-4d9c-4fac-987f-01e97d9d1af6",
   "metadata": {},
   "outputs": [
    {
     "name": "stdout",
     "output_type": "stream",
     "text": [
      "root\n",
      " |-- Series_reference: string (nullable = true)\n",
      " |-- Period: double (nullable = true)\n",
      " |-- Data_value: string (nullable = true)\n",
      " |-- STATUS: string (nullable = true)\n",
      " |-- UNITS: string (nullable = true)\n",
      " |-- Subject: string (nullable = true)\n",
      " |-- Group: string (nullable = true)\n",
      " |-- Series_title_1: string (nullable = true)\n",
      "\n"
     ]
    }
   ],
   "source": [
    "df.printSchema()"
   ]
  },
  {
   "cell_type": "code",
   "execution_count": 22,
   "id": "7f61fa9b-29ce-4ed8-8730-e49d5f2c8c5d",
   "metadata": {},
   "outputs": [
    {
     "data": {
      "text/plain": [
       "['Series_reference',\n",
       " 'Period',\n",
       " 'Data_value',\n",
       " 'STATUS',\n",
       " 'UNITS',\n",
       " 'Subject',\n",
       " 'Group',\n",
       " 'Series_title_1']"
      ]
     },
     "execution_count": 22,
     "metadata": {},
     "output_type": "execute_result"
    }
   ],
   "source": [
    "df.columns"
   ]
  },
  {
   "cell_type": "code",
   "execution_count": 23,
   "id": "76adb679-7d7d-4cd8-ad2f-ac4d7857d8c8",
   "metadata": {},
   "outputs": [
    {
     "data": {
      "text/plain": [
       "['Series_reference', 'Period', 'Data_value', 'STATUS', 'Series_title_1']"
      ]
     },
     "execution_count": 23,
     "metadata": {},
     "output_type": "execute_result"
    }
   ],
   "source": [
    "new_columns = [\n",
    "        'Series_reference',\n",
    "        'Period',\n",
    "        'Data_value',\n",
    "        'STATUS',\n",
    "        'Series_title_1'\n",
    "    ]\n",
    "df = df.select(new_columns)\n",
    "df.columns"
   ]
  },
  {
   "cell_type": "code",
   "execution_count": 24,
   "id": "b6025592-f603-40af-bbd2-f1456cb0832c",
   "metadata": {},
   "outputs": [
    {
     "name": "stdout",
     "output_type": "stream",
     "text": [
      "root\n",
      " |-- Series_reference: string (nullable = true)\n",
      " |-- Period: double (nullable = true)\n",
      " |-- Data_value: string (nullable = true)\n",
      " |-- STATUS: string (nullable = true)\n",
      " |-- Series_title_1: string (nullable = true)\n",
      "\n"
     ]
    }
   ],
   "source": [
    "df.printSchema()"
   ]
  },
  {
   "cell_type": "code",
   "execution_count": 39,
   "id": "79cf9c45-e049-4334-b8d8-6c06a7d1f0a0",
   "metadata": {},
   "outputs": [
    {
     "name": "stdout",
     "output_type": "stream",
     "text": [
      "+----------------+-------+----------+------+---------------+\n",
      "|Series_reference| Period|Data_value|STATUS| Series_title_1|\n",
      "+----------------+-------+----------+------+---------------+\n",
      "|    CPIM.SAP0190| 2022.1|      41.1| FINAL|Fresh fish, 1kg|\n",
      "|    CPIM.SAP0190|2022.11|     41.99| FINAL|Fresh fish, 1kg|\n",
      "|    CPIM.SAP0190|2022.12|     41.86| FINAL|Fresh fish, 1kg|\n",
      "|    CPIM.SAP0190|2023.01|     42.58| FINAL|Fresh fish, 1kg|\n",
      "|    CPIM.SAP0190|2023.02|     42.52| FINAL|Fresh fish, 1kg|\n",
      "|    CPIM.SAP0190|2023.03|     42.07| FINAL|Fresh fish, 1kg|\n",
      "|    CPIM.SAP0190|2023.04|     42.75| FINAL|Fresh fish, 1kg|\n",
      "|    CPIM.SAP0190|2023.05|     42.58| FINAL|Fresh fish, 1kg|\n",
      "|    CPIM.SAP0190|2023.06|     43.04| FINAL|Fresh fish, 1kg|\n",
      "|    CPIM.SAP0190|2023.07|     43.44| FINAL|Fresh fish, 1kg|\n",
      "|    CPIM.SAP0190|2023.08|     43.34| FINAL|Fresh fish, 1kg|\n",
      "|    CPIM.SAP0190|2023.09|     43.51| FINAL|Fresh fish, 1kg|\n",
      "+----------------+-------+----------+------+---------------+\n",
      "\n"
     ]
    }
   ],
   "source": [
    "df.filter('Data_value > 40').show()"
   ]
  },
  {
   "cell_type": "code",
   "execution_count": 54,
   "id": "00fbb508-f472-4d79-9282-b9a6f3c6c982",
   "metadata": {},
   "outputs": [
    {
     "name": "stdout",
     "output_type": "stream",
     "text": [
      "+----------------+-------+----------+------+---------------+\n",
      "|Series_reference| Period|Data_value|STATUS| Series_title_1|\n",
      "+----------------+-------+----------+------+---------------+\n",
      "|    CPIM.SAP0190|2022.12|     41.86| FINAL|Fresh fish, 1kg|\n",
      "+----------------+-------+----------+------+---------------+\n",
      "\n"
     ]
    }
   ],
   "source": [
    "df.filter((df['Data_value'] > 40) & (df['Period'] == 2022.12)).show()"
   ]
  },
  {
   "cell_type": "code",
   "execution_count": 55,
   "id": "7d992b29-ef65-4d94-976e-44a0f14e7dbd",
   "metadata": {},
   "outputs": [
    {
     "data": {
      "text/plain": [
       "{'Series_reference': 'CPIM.SAP0190',\n",
       " 'Period': 2022.12,\n",
       " 'Data_value': '41.86',\n",
       " 'STATUS': 'FINAL',\n",
       " 'Series_title_1': 'Fresh fish, 1kg'}"
      ]
     },
     "execution_count": 55,
     "metadata": {},
     "output_type": "execute_result"
    }
   ],
   "source": [
    "rows = df.filter((df['Data_value'] > 40) & (df['Period'] == 2022.12)).collect()\n",
    "rows[0].asDict()"
   ]
  },
  {
   "cell_type": "code",
   "execution_count": 65,
   "id": "b95206b7-cfa2-4692-93ba-df7ce21a650c",
   "metadata": {},
   "outputs": [
    {
     "name": "stdout",
     "output_type": "stream",
     "text": [
      "+-------+-----------+\n",
      "| Period|max(Period)|\n",
      "+-------+-----------+\n",
      "|2019.05|    2019.05|\n",
      "|2008.09|    2008.09|\n",
      "|2019.06|    2019.06|\n",
      "|2009.05|    2009.05|\n",
      "|2011.12|    2011.12|\n",
      "|2022.03|    2022.03|\n",
      "|2022.12|    2022.12|\n",
      "|2009.09|    2009.09|\n",
      "|2010.01|    2010.01|\n",
      "| 2014.1|     2014.1|\n",
      "| 2011.1|     2011.1|\n",
      "|2012.06|    2012.06|\n",
      "|2019.01|    2019.01|\n",
      "|2013.08|    2013.08|\n",
      "|2018.01|    2018.01|\n",
      "|2007.04|    2007.04|\n",
      "|2016.01|    2016.01|\n",
      "|2019.12|    2019.12|\n",
      "|2015.05|    2015.05|\n",
      "|2008.12|    2008.12|\n",
      "+-------+-----------+\n",
      "only showing top 20 rows\n",
      "\n"
     ]
    }
   ],
   "source": [
    "df_values = df.select(['Data_value', 'Period'])\n",
    "df_values.groupBy('Period').max().show()"
   ]
  },
  {
   "cell_type": "code",
   "execution_count": null,
   "id": "4cc35ab7-cf9a-47e6-838f-435c43048e8c",
   "metadata": {},
   "outputs": [],
   "source": []
  }
 ],
 "metadata": {
  "kernelspec": {
   "display_name": "Python 3 (ipykernel)",
   "language": "python",
   "name": "python3"
  },
  "language_info": {
   "codemirror_mode": {
    "name": "ipython",
    "version": 3
   },
   "file_extension": ".py",
   "mimetype": "text/x-python",
   "name": "python",
   "nbconvert_exporter": "python",
   "pygments_lexer": "ipython3",
   "version": "3.10.12"
  }
 },
 "nbformat": 4,
 "nbformat_minor": 5
}
